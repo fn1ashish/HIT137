{
  "nbformat": 4,
  "nbformat_minor": 0,
  "metadata": {
    "colab": {
      "provenance": []
    },
    "kernelspec": {
      "name": "python3",
      "display_name": "Python 3"
    },
    "language_info": {
      "name": "python"
    }
  },
  "cells": [
    {
      "cell_type": "code",
      "source": [
        "pip install pandas\n"
      ],
      "metadata": {
        "colab": {
          "base_uri": "https://localhost:8080/"
        },
        "id": "WUoi6Sd-2ow9",
        "outputId": "22045e56-c8a4-4a01-cf6b-7ff0bb40d7fe"
      },
      "execution_count": null,
      "outputs": [
        {
          "output_type": "stream",
          "name": "stdout",
          "text": [
            "Requirement already satisfied: pandas in /usr/local/lib/python3.10/dist-packages (1.5.3)\n",
            "Requirement already satisfied: python-dateutil>=2.8.1 in /usr/local/lib/python3.10/dist-packages (from pandas) (2.8.2)\n",
            "Requirement already satisfied: pytz>=2020.1 in /usr/local/lib/python3.10/dist-packages (from pandas) (2023.3.post1)\n",
            "Requirement already satisfied: numpy>=1.21.0 in /usr/local/lib/python3.10/dist-packages (from pandas) (1.23.5)\n",
            "Requirement already satisfied: six>=1.5 in /usr/local/lib/python3.10/dist-packages (from python-dateutil>=2.8.1->pandas) (1.16.0)\n"
          ]
        }
      ]
    },
    {
      "cell_type": "code",
      "source": [
        "import pandas as pd\n",
        "import os\n"
      ],
      "metadata": {
        "id": "BM7fIDCq9NvF"
      },
      "execution_count": null,
      "outputs": []
    },
    {
      "cell_type": "code",
      "source": [
        "# Specify the path to the uploaded folder\n",
        "uploaded_folder_path = '/content/drive/MyDrive/assignment'\n",
        "\n",
        "# List all CSV files in the uploaded folder\n",
        "csv_files = [file for file in os.listdir(uploaded_folder_path) if file.endswith('.csv')]\n"
      ],
      "metadata": {
        "id": "yqPV7mE89PoH"
      },
      "execution_count": 13,
      "outputs": []
    },
    {
      "cell_type": "code",
      "source": [
        "\n",
        "\n",
        "# Loop through each CSV file and extract text\n",
        "for csv_file in csv_files:\n",
        "    # Read the CSV file using pandas\n",
        "    df = pd.read_csv(os.path.join(uploaded_folder_path, csv_file))\n",
        "\n",
        "    # Print column names for each CSV file\n",
        "    print(f\"Columns in {csv_file}: {df.columns.tolist()}\")\n",
        "\n",
        "    # Assuming the column containing large text is named 'text', you can replace it with your actual column name\n",
        "    text_column = 'text'\n",
        "\n",
        "    # Check if the specified text column exists in the DataFrame\n",
        "    if text_column in df.columns:\n",
        "        # Extract text from the specified column\n",
        "        texts = df[text_column].tolist()\n",
        "        # Append the texts to the list\n",
        "        all_texts.extend(texts)"
      ],
      "metadata": {
        "colab": {
          "base_uri": "https://localhost:8080/"
        },
        "id": "ukjGv_H99R-c",
        "outputId": "ea1a5f2a-2afa-45a9-bef6-e782ab47eca1"
      },
      "execution_count": 15,
      "outputs": [
        {
          "output_type": "stream",
          "name": "stdout",
          "text": [
            "Columns in CSV2.csv: ['Unnamed: 0', 'HADM_ID', 'TEXT', 'LABLE', 'entites', 'group']\n",
            "Columns in CSV1.csv: ['Unnamed: 0', 'HADM_ID', 'SHORT-TEXT', 'ICD9_CODE', 'ICD9', 'Label']\n",
            "Columns in CSV3.csv: ['HADM_ID', 'TEXT', 'ICD9_CODE', 'Label']\n",
            "Columns in CSV4.csv: ['HADM_ID', 'TEXT', 'LABLE']\n"
          ]
        }
      ]
    },
    {
      "cell_type": "code",
      "source": [
        "\n",
        "# Write the extracted texts into a single text file\n",
        "output_text_file = 'output_text.txt'\n",
        "with open(output_text_file, 'w', encoding='utf-8') as output_file:\n",
        "    for text in all_texts:\n",
        "        output_file.write(str(text) + '\\n')\n",
        "\n",
        "print(f\"Texts extracted from {len(csv_files)} CSV files and stored in {output_text_file}\")\n"
      ],
      "metadata": {
        "colab": {
          "base_uri": "https://localhost:8080/"
        },
        "id": "AEtKATFz2nd6",
        "outputId": "4dad4f5e-27a9-4284-b519-ffd11948df7d"
      },
      "execution_count": 16,
      "outputs": [
        {
          "output_type": "stream",
          "name": "stdout",
          "text": [
            "Texts extracted from 4 CSV files and stored in output_text.txt\n"
          ]
        }
      ]
    }
  ]
}